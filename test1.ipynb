{
 "cells": [
  {
   "cell_type": "code",
   "execution_count": 22,
   "metadata": {},
   "outputs": [
    {
     "name": "stdout",
     "output_type": "stream",
     "text": [
      "[[-2.00505882e+00 -2.85288451e-03 -1.38647480e+00  4.90483625e+00]\n",
      " [-2.00505882e+00 -2.85288451e-03 -1.38647480e+00  4.90483625e+00]\n",
      " [-2.00505882e+00 -2.85288451e-03 -1.38647480e+00  4.90483625e+00]]\n",
      "4\n",
      "[[ 0.13537833  1.13170851  0.17344    -0.49662321]\n",
      " [ 0.96045295  0.55310006  1.19336949 -1.39990057]\n",
      " [ 0.83671697  2.36115596 -1.14576674  0.97730585]]\n"
     ]
    }
   ],
   "source": [
    "import numpy as np\n",
    "\n",
    "from numpy.random import normal\n",
    "from numpy.linalg import qr\n",
    "from numpy.linalg import svd\n",
    "from numpy.linalg import matrix_rank\n",
    "\n",
    "a = np.array([[1,2,3,4],[1,2,3,4],[1,2,3,4]])\n",
    "c = np.array([[4,3,2,1],[4,3,2,1],[4,3,2,1]])\n",
    "b = normal(size=(3,4))\n",
    "\n",
    "u,Lambda,vh = svd(b)\n",
    "\n",
    "print(np.dot(a,vh.T))\n",
    "print(matrix_rank(vh))\n",
    "print(b)"
   ]
  }
 ],
 "metadata": {
  "interpreter": {
   "hash": "a29b31fdf3b786c44a3109ed9c05d6abfa589c8090e5cb26edb78773d5f71219"
  },
  "kernelspec": {
   "display_name": "Python 3.9.5 64-bit ('3.9.5')",
   "language": "python",
   "name": "python3"
  },
  "language_info": {
   "codemirror_mode": {
    "name": "ipython",
    "version": 3
   },
   "file_extension": ".py",
   "mimetype": "text/x-python",
   "name": "python",
   "nbconvert_exporter": "python",
   "pygments_lexer": "ipython3",
   "version": "3.9.5"
  },
  "orig_nbformat": 4
 },
 "nbformat": 4,
 "nbformat_minor": 2
}
